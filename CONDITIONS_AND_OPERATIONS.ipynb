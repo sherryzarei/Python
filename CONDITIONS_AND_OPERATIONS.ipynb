{
  "nbformat": 4,
  "nbformat_minor": 0,
  "metadata": {
    "colab": {
      "provenance": [],
      "authorship_tag": "ABX9TyMpHi67ZmJptro6jsVfqat0",
      "include_colab_link": true
    },
    "kernelspec": {
      "name": "python3",
      "display_name": "Python 3"
    },
    "language_info": {
      "name": "python"
    }
  },
  "cells": [
    {
      "cell_type": "markdown",
      "metadata": {
        "id": "view-in-github",
        "colab_type": "text"
      },
      "source": [
        "<a href=\"https://colab.research.google.com/github/sherryzarei/Python/blob/main/CONDITIONS_AND_OPERATIONS.ipynb\" target=\"_parent\"><img src=\"https://colab.research.google.com/assets/colab-badge.svg\" alt=\"Open In Colab\"/></a>"
      ]
    },
    {
      "cell_type": "markdown",
      "source": [
        "**CONDITIONAL STATEMENTS**"
      ],
      "metadata": {
        "id": "xbFCzejC5sl8"
      }
    },
    {
      "cell_type": "markdown",
      "source": [
        "*   EQUALITY OPERATORS AND TESTS\n",
        "\n",
        "\n",
        "\n"
      ],
      "metadata": {
        "id": "lCbxcRmv7NEt"
      }
    },
    {
      "cell_type": "code",
      "execution_count": null,
      "metadata": {
        "id": "eLLHJmbY5l9a"
      },
      "outputs": [],
      "source": [
        "mB1 = True\n",
        "mB2 = False\n",
        "num1 = 10\n",
        "num2 = 20\n",
        "num3 = 30\n",
        "s1 = \"Hello\"\n",
        "s2 = \"Bye\"\n",
        "\n",
        "print(mB1 == True)\n",
        "print(mB2 == False)\n",
        "print(mB2 != False)\n",
        "print(mB1 == mB2)\n",
        "print(mB1 != mB2)\n",
        "\n",
        "print(\"\")\n",
        "\n",
        "print(s1 == s2)\n",
        "print(s1 == \"Hello\")\n",
        "print(s1 != s2)\n",
        "\n",
        "print(\"\")\n",
        "\n",
        "print(num1 == 10)\n",
        "print(num1 == 15)\n",
        "print(num1 == num2)\n",
        "print(num1 != num2)\n",
        "print(num1 + num2 == num3)\n",
        "print(num1 == num2 + num3)"
      ]
    },
    {
      "cell_type": "markdown",
      "source": [
        "*   RELATIONAL OPERATORS AND TESTS"
      ],
      "metadata": {
        "id": "aN7dgL14-Uuf"
      }
    },
    {
      "cell_type": "code",
      "source": [
        "num1 = 10\n",
        "num2 = 20\n",
        "num3 = 30\n",
        "c1 = 'T'\n",
        "c2 = 'W'\n",
        "\n",
        "print(num1 > 10)\n",
        "print(num1 > num2)\n",
        "print(num1 <= 20)\n",
        "print(num1 >= 15)\n",
        "\n",
        "print(\"\")\n",
        "\n",
        "print(c1 <= 'C')\n",
        "print(c1 > 'R')\n",
        "print(c1 > c2)\n",
        "\n",
        "print(\"\")\n",
        "\n",
        "print(c2 > 'T')\n",
        "print(c2 >= 'X')\n",
        "print(c2 > c1)\n",
        "\n",
        "print(\"\")\n",
        "\n",
        "print(num1 < 20)\n",
        "print(num2 > num1)\n",
        "print(num2 >= 10)\n",
        "print(num2 <= 15)\n",
        "\n",
        "print(\"\")\n",
        "\n",
        "print(num1 + num2 > num3)\n",
        "print(num1 - num2 < num3)\n",
        "print(num2 / num3 < num1)\n",
        "print(num2 * num3 < num3)"
      ],
      "metadata": {
        "id": "b8XFTDEV-nAo"
      },
      "execution_count": null,
      "outputs": []
    },
    {
      "cell_type": "markdown",
      "source": [
        "*   LOGICAL OPERATORS AND TESTS"
      ],
      "metadata": {
        "id": "LmriDoVhBVFN"
      }
    },
    {
      "cell_type": "markdown",
      "source": [
        "  1.   AND OPERATOR\n",
        "\n"
      ],
      "metadata": {
        "id": "QHhuuzMrB8h0"
      }
    },
    {
      "cell_type": "code",
      "source": [
        "mark = 75\n",
        "print(mark >= 70 and mark <=80)\n",
        "mark1 = 50\n",
        "mark2 = 70\n",
        "mark3 = 90\n",
        "print(mark1 < mark2 and mark2 < mark3)"
      ],
      "metadata": {
        "id": "pj4fi8nbCekI"
      },
      "execution_count": null,
      "outputs": []
    },
    {
      "cell_type": "markdown",
      "source": [
        "  2.   OR OPERATOR\n",
        "\n"
      ],
      "metadata": {
        "id": "-59VBotYDBeg"
      }
    },
    {
      "cell_type": "code",
      "source": [
        "color = \"red\"\n",
        "print(color == \"red\" or color == \"blue\" or color == \"green\")\n",
        "color = \"blue\"\n",
        "print(len(color) > 5 or color == \"red\")\n",
        "color = \"orange\"\n",
        "print('a' in color or len(color) == 2)"
      ],
      "metadata": {
        "id": "fWX7DYZWCC7O"
      },
      "execution_count": null,
      "outputs": []
    },
    {
      "cell_type": "markdown",
      "source": [
        "  3.   NOT OPERATOR\n",
        "\n"
      ],
      "metadata": {
        "id": "MhYlygVDDxq4"
      }
    },
    {
      "cell_type": "code",
      "source": [
        "mark = 60\n",
        "print(not mark == 60)\n",
        "\n",
        "trueOfFalse = True\n",
        "print(not trueOfFalse)"
      ],
      "metadata": {
        "id": "qhNvpk0ZD3A3"
      },
      "execution_count": null,
      "outputs": []
    },
    {
      "cell_type": "markdown",
      "source": [
        "*   IF STATEMENTS\n"
      ],
      "metadata": {
        "id": "H53tZTxsEOzP"
      }
    },
    {
      "cell_type": "markdown",
      "source": [
        "  1.   ONE-WAY IF STATEMENTS\n",
        "\n",
        "\n",
        "\n"
      ],
      "metadata": {
        "id": "TtTntYwpEUg0"
      }
    },
    {
      "cell_type": "code",
      "source": [
        "myBool = True\n",
        "if myBool :\n",
        "  print(\"success\")"
      ],
      "metadata": {
        "id": "eL8HR0mtESOF"
      },
      "execution_count": null,
      "outputs": []
    },
    {
      "cell_type": "markdown",
      "source": [
        "  2.   TWO-WAY IF STATEMENTS\n",
        "\n"
      ],
      "metadata": {
        "id": "o3UzwQrLExWv"
      }
    },
    {
      "cell_type": "code",
      "source": [
        "i = -1\n",
        "if i < 0 :\n",
        "  print(\"Number is negative\")\n",
        "else :\n",
        "  print(\"Number is non-negative\")"
      ],
      "metadata": {
        "id": "HMv_GsykFOQG"
      },
      "execution_count": null,
      "outputs": []
    },
    {
      "cell_type": "code",
      "source": [
        "i = -1\n",
        "if i < 0 :\n",
        "  print(\"Number is negative\")\n",
        "  print(\"It is winter\")\n",
        "else :\n",
        "  print(\"Number is non-negative\")\n",
        "  print(\"It is summer\")"
      ],
      "metadata": {
        "id": "_rwwALEhF5An"
      },
      "execution_count": null,
      "outputs": []
    },
    {
      "cell_type": "markdown",
      "source": [
        "  3.   MULTI-WAY IF STATEMENTS"
      ],
      "metadata": {
        "id": "JKbrmSZ8GKyG"
      }
    },
    {
      "cell_type": "code",
      "source": [
        "i = 4\n",
        "\n",
        "if i == 0\n",
        "  print(\"first\")\n",
        "elif i > 0 and i < 4:\n",
        "  print(\"second\")\n",
        "elif i > 3 and i != 5:\n",
        "  print(\"third\")\n",
        "else:\n",
        "  print(\"fourth\")"
      ],
      "metadata": {
        "id": "OMDwfuK0GR22"
      },
      "execution_count": null,
      "outputs": []
    },
    {
      "cell_type": "code",
      "source": [
        "#No Output\n",
        "i = 0\n",
        "if i > 0:\n",
        "  print(\"first\")\n",
        "elif i < 0:\n",
        "  print(\"second\")"
      ],
      "metadata": {
        "id": "S8RFivCyHHN0"
      },
      "execution_count": 24,
      "outputs": []
    },
    {
      "cell_type": "markdown",
      "source": [
        "*   NESTED IF STATEMENTS"
      ],
      "metadata": {
        "id": "S6q-vZKAHho4"
      }
    },
    {
      "cell_type": "code",
      "source": [
        "hourlyEmployee = True\n",
        "hours = 50\n",
        "bonus = 0\n",
        "yearsEmployed = 5\n",
        "\n",
        "if hourlyEmployee == True:\n",
        "  if hours > 40:\n",
        "    bonus = 500\n",
        "  else:\n",
        "    if yearsEmployed > 10:\n",
        "      bonus = 300\n",
        "    else:\n",
        "      bonus = 200\n",
        "\n",
        "print(\"hourlyEmployee: \", hourlyEmployee, \"\\n hours: \",\n",
        "      hours, \"\\n bonus: \", bonus,  \"\\n yearEmployed: \", yearsEmployed)"
      ],
      "metadata": {
        "id": "Ew3zZ5jcHmKb"
      },
      "execution_count": null,
      "outputs": []
    },
    {
      "cell_type": "markdown",
      "source": [
        "*   Comprehensive If Statement Example\n",
        "\n",
        "\n"
      ],
      "metadata": {
        "id": "bBiMEROKJJ04"
      }
    },
    {
      "cell_type": "code",
      "source": [
        "number = int(input(\"Enter number: \"))\n",
        "\n",
        "if number > 0:\n",
        "  print(\"Your number is greater than 0\")\n",
        "elif number == 0:\n",
        "  print(\"Your number is 0\")\n",
        "else:\n",
        "  print(\"Your number is less than 0\")"
      ],
      "metadata": {
        "id": "Ow17oRw9JOxY"
      },
      "execution_count": null,
      "outputs": []
    },
    {
      "cell_type": "markdown",
      "source": [
        "*   COMPACTED IF STATEMENTS (TERNARY OPERATOR)"
      ],
      "metadata": {
        "id": "to940TwMKcfs"
      }
    },
    {
      "cell_type": "code",
      "source": [
        "examScore = 90\n",
        "grade = 'A' if examScore > 89 else 'C'\n",
        "print(grade)"
      ],
      "metadata": {
        "id": "wB-Jza5OKiOP"
      },
      "execution_count": null,
      "outputs": []
    },
    {
      "cell_type": "code",
      "source": [
        "timeAtSite = 3.5\n",
        "charges = 100.00 if timeAtSite < 2.0 \\\n",
        "  else timeAtSite * 50.00;\n",
        "print(charges)"
      ],
      "metadata": {
        "id": "MMSu2UZMLEvq"
      },
      "execution_count": null,
      "outputs": []
    },
    {
      "cell_type": "markdown",
      "source": [
        "*   ORDER OF OPERATIONS"
      ],
      "metadata": {
        "id": "4m0AJBDaLrsg"
      }
    },
    {
      "cell_type": "code",
      "source": [
        "value1 = 10\n",
        "value2 = 20\n",
        "value3 = 30\n",
        "value4 = 40\n",
        "value5 = 50\n",
        "\n",
        "if value1 > value2 or value3 == 10 and value4 + 5 < value5:\n",
        "  print(\"The expression evaluates to TRUE\")\n",
        "else:\n",
        "  print(\"The expression evaluates Flase\")"
      ],
      "metadata": {
        "colab": {
          "base_uri": "https://localhost:8080/"
        },
        "id": "xKQUC7tOLu5W",
        "outputId": "530be438-950f-4fc4-a7bb-4aa7001cc583"
      },
      "execution_count": 34,
      "outputs": [
        {
          "output_type": "stream",
          "name": "stdout",
          "text": [
            "The expression evaluates Flase\n"
          ]
        }
      ]
    }
  ]
}