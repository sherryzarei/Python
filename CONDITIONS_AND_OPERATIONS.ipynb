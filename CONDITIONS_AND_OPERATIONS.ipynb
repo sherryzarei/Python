{
  "nbformat": 4,
  "nbformat_minor": 0,
  "metadata": {
    "colab": {
      "provenance": [],
      "authorship_tag": "ABX9TyOYhnrzxfmRDozA+1uxY11W",
      "include_colab_link": true
    },
    "kernelspec": {
      "name": "python3",
      "display_name": "Python 3"
    },
    "language_info": {
      "name": "python"
    }
  },
  "cells": [
    {
      "cell_type": "markdown",
      "metadata": {
        "id": "view-in-github",
        "colab_type": "text"
      },
      "source": [
        "<a href=\"https://colab.research.google.com/github/sherryzarei/Python/blob/main/CONDITIONS_AND_OPERATIONS.ipynb\" target=\"_parent\"><img src=\"https://colab.research.google.com/assets/colab-badge.svg\" alt=\"Open In Colab\"/></a>"
      ]
    },
    {
      "cell_type": "markdown",
      "source": [
        "**CONDITIONAL STATEMENTS**"
      ],
      "metadata": {
        "id": "xbFCzejC5sl8"
      }
    },
    {
      "cell_type": "markdown",
      "source": [
        "*   EQUALITY OPERATORS AND TESTS\n",
        "\n",
        "\n",
        "\n"
      ],
      "metadata": {
        "id": "lCbxcRmv7NEt"
      }
    },
    {
      "cell_type": "code",
      "execution_count": 52,
      "metadata": {
        "colab": {
          "base_uri": "https://localhost:8080/"
        },
        "id": "eLLHJmbY5l9a",
        "outputId": "f21e94aa-f63e-4e21-a915-0d77ddc82e62"
      },
      "outputs": [
        {
          "output_type": "stream",
          "name": "stdout",
          "text": [
            "True\n",
            "True\n",
            "False\n",
            "False\n",
            "True\n",
            "\n",
            "False\n",
            "True\n",
            "True\n",
            "\n",
            "True\n",
            "False\n",
            "False\n",
            "True\n",
            "True\n",
            "False\n"
          ]
        }
      ],
      "source": [
        "mB1 = True\n",
        "mB2 = False\n",
        "num1 = 10\n",
        "num2 = 20\n",
        "num3 = 30\n",
        "s1 = \"Hello\"\n",
        "s2 = \"Bye\"\n",
        "\n",
        "print(mB1 == True)\n",
        "print(mB2 == False)\n",
        "print(mB2 != False)\n",
        "print(mB1 == mB2)\n",
        "print(mB1 != mB2)\n",
        "\n",
        "print(\"\")\n",
        "\n",
        "print(s1 == s2)\n",
        "print(s1 == \"Hello\")\n",
        "print(s1 != s2)\n",
        "\n",
        "print(\"\")\n",
        "\n",
        "print(num1 == 10)\n",
        "print(num1 == 15)\n",
        "print(num1 == num2)\n",
        "print(num1 != num2)\n",
        "print(num1 + num2 == num3)\n",
        "print(num1 == num2 + num3)"
      ]
    },
    {
      "cell_type": "markdown",
      "source": [
        "*   RELATIONAL OPERATORS AND TESTS"
      ],
      "metadata": {
        "id": "aN7dgL14-Uuf"
      }
    },
    {
      "cell_type": "code",
      "source": [
        "num1 = 10\n",
        "num2 = 20\n",
        "num3 = 30\n",
        "c1 = 'T'\n",
        "c2 = 'W'\n",
        "\n",
        "print(num1 > 10)\n",
        "print(num1 > num2)\n",
        "print(num1 <= 20)\n",
        "print(num1 >= 15)\n",
        "\n",
        "print(\"\")\n",
        "\n",
        "print(c1 <= 'C')\n",
        "print(c1 > 'R')\n",
        "print(c1 > c2)\n",
        "\n",
        "print(\"\")\n",
        "\n",
        "print(c2 > 'T')\n",
        "print(c2 >= 'X')\n",
        "print(c2 > c1)\n",
        "\n",
        "print(\"\")\n",
        "\n",
        "print(num1 < 20)\n",
        "print(num2 > num1)\n",
        "print(num2 >= 10)\n",
        "print(num2 <= 15)\n",
        "\n",
        "print(\"\")\n",
        "\n",
        "print(num1 + num2 > num3)\n",
        "print(num1 - num2 < num3)\n",
        "print(num2 / num3 < num1)\n",
        "print(num2 * num3 < num3)"
      ],
      "metadata": {
        "colab": {
          "base_uri": "https://localhost:8080/"
        },
        "id": "b8XFTDEV-nAo",
        "outputId": "fa3ef166-2ef1-4eea-ff02-37f4326f2665"
      },
      "execution_count": 51,
      "outputs": [
        {
          "output_type": "stream",
          "name": "stdout",
          "text": [
            "False\n",
            "False\n",
            "True\n",
            "False\n",
            "\n",
            "False\n",
            "True\n",
            "False\n",
            "\n",
            "True\n",
            "False\n",
            "True\n",
            "\n",
            "True\n",
            "True\n",
            "True\n",
            "False\n",
            "\n",
            "False\n",
            "True\n",
            "True\n",
            "False\n"
          ]
        }
      ]
    },
    {
      "cell_type": "markdown",
      "source": [
        "*   LOGICAL OPERATORS AND TESTS"
      ],
      "metadata": {
        "id": "LmriDoVhBVFN"
      }
    },
    {
      "cell_type": "markdown",
      "source": [
        "  1.   AND OPERATOR\n",
        "\n"
      ],
      "metadata": {
        "id": "QHhuuzMrB8h0"
      }
    },
    {
      "cell_type": "code",
      "source": [
        "mark = 75\n",
        "print(mark >= 70 and mark <=80)\n",
        "mark1 = 50\n",
        "mark2 = 70\n",
        "mark3 = 90\n",
        "print(mark1 < mark2 and mark2 < mark3)"
      ],
      "metadata": {
        "colab": {
          "base_uri": "https://localhost:8080/"
        },
        "id": "pj4fi8nbCekI",
        "outputId": "d89ab265-3008-438e-9db0-765dd4b945f1"
      },
      "execution_count": 50,
      "outputs": [
        {
          "output_type": "stream",
          "name": "stdout",
          "text": [
            "True\n",
            "True\n"
          ]
        }
      ]
    },
    {
      "cell_type": "markdown",
      "source": [
        "  2.   OR OPERATOR\n",
        "\n"
      ],
      "metadata": {
        "id": "-59VBotYDBeg"
      }
    },
    {
      "cell_type": "code",
      "source": [
        "color = \"red\"\n",
        "print(color == \"red\" or color == \"blue\" or color == \"green\")\n",
        "color = \"blue\"\n",
        "print(len(color) > 5 or color == \"red\")\n",
        "color = \"orange\"\n",
        "print('a' in color or len(color) == 2)"
      ],
      "metadata": {
        "colab": {
          "base_uri": "https://localhost:8080/"
        },
        "id": "fWX7DYZWCC7O",
        "outputId": "816c7f77-ba54-4696-98a2-c62f02734b41"
      },
      "execution_count": 49,
      "outputs": [
        {
          "output_type": "stream",
          "name": "stdout",
          "text": [
            "True\n",
            "False\n",
            "True\n"
          ]
        }
      ]
    },
    {
      "cell_type": "markdown",
      "source": [
        "  3.   NOT OPERATOR\n",
        "\n"
      ],
      "metadata": {
        "id": "MhYlygVDDxq4"
      }
    },
    {
      "cell_type": "code",
      "source": [
        "mark = 60\n",
        "print(not mark == 60)\n",
        "\n",
        "trueOfFalse = True\n",
        "print(not trueOfFalse)"
      ],
      "metadata": {
        "colab": {
          "base_uri": "https://localhost:8080/"
        },
        "id": "qhNvpk0ZD3A3",
        "outputId": "e7208d2c-072d-41f1-d929-b716f1f80cfe"
      },
      "execution_count": 48,
      "outputs": [
        {
          "output_type": "stream",
          "name": "stdout",
          "text": [
            "False\n",
            "False\n"
          ]
        }
      ]
    },
    {
      "cell_type": "markdown",
      "source": [
        "*   IF STATEMENTS\n"
      ],
      "metadata": {
        "id": "H53tZTxsEOzP"
      }
    },
    {
      "cell_type": "markdown",
      "source": [
        "  1.   ONE-WAY IF STATEMENTS\n",
        "\n",
        "\n",
        "\n"
      ],
      "metadata": {
        "id": "TtTntYwpEUg0"
      }
    },
    {
      "cell_type": "code",
      "source": [
        "myBool = True\n",
        "if myBool :\n",
        "  print(\"success\")"
      ],
      "metadata": {
        "colab": {
          "base_uri": "https://localhost:8080/"
        },
        "id": "eL8HR0mtESOF",
        "outputId": "67663320-604c-46e0-da00-4a146aa6c46f"
      },
      "execution_count": 47,
      "outputs": [
        {
          "output_type": "stream",
          "name": "stdout",
          "text": [
            "success\n"
          ]
        }
      ]
    },
    {
      "cell_type": "markdown",
      "source": [
        "  2.   TWO-WAY IF STATEMENTS\n",
        "\n"
      ],
      "metadata": {
        "id": "o3UzwQrLExWv"
      }
    },
    {
      "cell_type": "code",
      "source": [
        "i = -1\n",
        "if i < 0 :\n",
        "  print(\"Number is negative\")\n",
        "else :\n",
        "  print(\"Number is non-negative\")"
      ],
      "metadata": {
        "colab": {
          "base_uri": "https://localhost:8080/"
        },
        "id": "HMv_GsykFOQG",
        "outputId": "0307d617-60b3-4f83-b13b-2d409f95a5bb"
      },
      "execution_count": 46,
      "outputs": [
        {
          "output_type": "stream",
          "name": "stdout",
          "text": [
            "Number is negative\n"
          ]
        }
      ]
    },
    {
      "cell_type": "code",
      "source": [
        "i = -1\n",
        "if i < 0 :\n",
        "  print(\"Number is negative\")\n",
        "  print(\"It is winter\")\n",
        "else :\n",
        "  print(\"Number is non-negative\")\n",
        "  print(\"It is summer\")"
      ],
      "metadata": {
        "colab": {
          "base_uri": "https://localhost:8080/"
        },
        "id": "_rwwALEhF5An",
        "outputId": "d0eb2d32-4309-447d-ad1e-c903c5ecbddf"
      },
      "execution_count": 45,
      "outputs": [
        {
          "output_type": "stream",
          "name": "stdout",
          "text": [
            "Number is negative\n",
            "It is winter\n"
          ]
        }
      ]
    },
    {
      "cell_type": "markdown",
      "source": [
        "  3.   MULTI-WAY IF STATEMENTS"
      ],
      "metadata": {
        "id": "JKbrmSZ8GKyG"
      }
    },
    {
      "cell_type": "code",
      "source": [
        "i = 4\n",
        "\n",
        "if i == 0:\n",
        "  print(\"first\")\n",
        "elif i > 0 and i < 4:\n",
        "  print(\"second\")\n",
        "elif i > 3 and i != 5:\n",
        "  print(\"third\")\n",
        "else:\n",
        "  print(\"fourth\")"
      ],
      "metadata": {
        "colab": {
          "base_uri": "https://localhost:8080/"
        },
        "id": "OMDwfuK0GR22",
        "outputId": "1cac08db-da11-41cc-a7ca-8938a7e4c2d6"
      },
      "execution_count": 44,
      "outputs": [
        {
          "output_type": "stream",
          "name": "stdout",
          "text": [
            "third\n"
          ]
        }
      ]
    },
    {
      "cell_type": "code",
      "source": [
        "#No Output\n",
        "i = 0\n",
        "if i > 0:\n",
        "  print(\"first\")\n",
        "elif i < 0:\n",
        "  print(\"second\")"
      ],
      "metadata": {
        "id": "S8RFivCyHHN0"
      },
      "execution_count": 42,
      "outputs": []
    },
    {
      "cell_type": "markdown",
      "source": [
        "*   NESTED IF STATEMENTS"
      ],
      "metadata": {
        "id": "S6q-vZKAHho4"
      }
    },
    {
      "cell_type": "code",
      "source": [
        "hourlyEmployee = True\n",
        "hours = 50\n",
        "bonus = 0\n",
        "yearsEmployed = 5\n",
        "\n",
        "if hourlyEmployee == True:\n",
        "  if hours > 40:\n",
        "    bonus = 500\n",
        "  else:\n",
        "    if yearsEmployed > 10:\n",
        "      bonus = 300\n",
        "    else:\n",
        "      bonus = 200\n",
        "\n",
        "print(\"hourlyEmployee: \", hourlyEmployee, \"\\n hours: \",\n",
        "      hours, \"\\n bonus: \", bonus,  \"\\n yearEmployed: \", yearsEmployed)"
      ],
      "metadata": {
        "colab": {
          "base_uri": "https://localhost:8080/"
        },
        "id": "Ew3zZ5jcHmKb",
        "outputId": "45010191-1de3-4fb8-8df0-8ca7b54d33cd"
      },
      "execution_count": 39,
      "outputs": [
        {
          "output_type": "stream",
          "name": "stdout",
          "text": [
            "hourlyEmployee:  True \n",
            " hours:  50 \n",
            " bonus:  500 \n",
            " yearEmployed:  5\n"
          ]
        }
      ]
    },
    {
      "cell_type": "markdown",
      "source": [
        "*   Comprehensive If Statement Example\n",
        "\n",
        "\n"
      ],
      "metadata": {
        "id": "bBiMEROKJJ04"
      }
    },
    {
      "cell_type": "code",
      "source": [
        "number = int(input(\"Enter number: \"))\n",
        "\n",
        "if number > 0:\n",
        "  print(\"Your number is greater than 0\")\n",
        "elif number == 0:\n",
        "  print(\"Your number is 0\")\n",
        "else:\n",
        "  print(\"Your number is less than 0\")"
      ],
      "metadata": {
        "colab": {
          "base_uri": "https://localhost:8080/"
        },
        "id": "Ow17oRw9JOxY",
        "outputId": "bf088e97-850d-4243-c973-d17eb88475f3"
      },
      "execution_count": 38,
      "outputs": [
        {
          "output_type": "stream",
          "name": "stdout",
          "text": [
            "Enter number: 1\n",
            "Your number is greater than 0\n"
          ]
        }
      ]
    },
    {
      "cell_type": "markdown",
      "source": [
        "*   COMPACTED IF STATEMENTS (TERNARY OPERATOR)"
      ],
      "metadata": {
        "id": "to940TwMKcfs"
      }
    },
    {
      "cell_type": "code",
      "source": [
        "examScore = 90\n",
        "grade = 'A' if examScore > 89 else 'C'\n",
        "print(grade)"
      ],
      "metadata": {
        "colab": {
          "base_uri": "https://localhost:8080/"
        },
        "id": "wB-Jza5OKiOP",
        "outputId": "091d8c9e-6872-4220-8681-f9c6012009a0"
      },
      "execution_count": 37,
      "outputs": [
        {
          "output_type": "stream",
          "name": "stdout",
          "text": [
            "A\n"
          ]
        }
      ]
    },
    {
      "cell_type": "code",
      "source": [
        "timeAtSite = 3.5\n",
        "charges = 100.00 if timeAtSite < 2.0 \\\n",
        "  else timeAtSite * 50.00;\n",
        "print(charges)"
      ],
      "metadata": {
        "colab": {
          "base_uri": "https://localhost:8080/"
        },
        "id": "MMSu2UZMLEvq",
        "outputId": "7affedf4-0860-483d-9e9f-629b156b3d0c"
      },
      "execution_count": 36,
      "outputs": [
        {
          "output_type": "stream",
          "name": "stdout",
          "text": [
            "175.0\n"
          ]
        }
      ]
    },
    {
      "cell_type": "markdown",
      "source": [
        "*   ORDER OF OPERATIONS"
      ],
      "metadata": {
        "id": "4m0AJBDaLrsg"
      }
    },
    {
      "cell_type": "code",
      "source": [
        "value1 = 10\n",
        "value2 = 20\n",
        "value3 = 30\n",
        "value4 = 40\n",
        "value5 = 50\n",
        "\n",
        "if value1 > value2 or value3 == 10 and value4 + 5 < value5:\n",
        "  print(\"The expression evaluates to TRUE\")\n",
        "else:\n",
        "  print(\"The expression evaluates Flase\")"
      ],
      "metadata": {
        "colab": {
          "base_uri": "https://localhost:8080/"
        },
        "id": "xKQUC7tOLu5W",
        "outputId": "6fe0a521-4e88-4691-b5ce-71e0b9c12630"
      },
      "execution_count": 35,
      "outputs": [
        {
          "output_type": "stream",
          "name": "stdout",
          "text": [
            "The expression evaluates Flase\n"
          ]
        }
      ]
    }
  ]
}