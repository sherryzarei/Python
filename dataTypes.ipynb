{
  "nbformat": 4,
  "nbformat_minor": 0,
  "metadata": {
    "colab": {
      "provenance": [],
      "authorship_tag": "ABX9TyOOeYiXWcWLrdNG8fvxh5JB",
      "include_colab_link": true
    },
    "kernelspec": {
      "name": "python3",
      "display_name": "Python 3"
    },
    "language_info": {
      "name": "python"
    }
  },
  "cells": [
    {
      "cell_type": "markdown",
      "metadata": {
        "id": "view-in-github",
        "colab_type": "text"
      },
      "source": [
        "<a href=\"https://colab.research.google.com/github/sherryzarei/Python/blob/main/dataTypes.ipynb\" target=\"_parent\"><img src=\"https://colab.research.google.com/assets/colab-badge.svg\" alt=\"Open In Colab\"/></a>"
      ]
    },
    {
      "cell_type": "markdown",
      "source": [
        "**WORKING WITH DATA TYPES AND VARIABLES**"
      ],
      "metadata": {
        "id": "-zb6g9sE4LBk"
      }
    },
    {
      "cell_type": "code",
      "source": [
        "num1 = 1994\n",
        "num2 = 29\n",
        "print(num1)\n",
        "print(num2)"
      ],
      "metadata": {
        "id": "2NIV_TWF2cxD"
      },
      "execution_count": null,
      "outputs": []
    },
    {
      "cell_type": "code",
      "source": [
        "f1_1 = 24.23\n",
        "f1_2 = 6238.233\n",
        "print(f1_1)\n",
        "print(f1_2)"
      ],
      "metadata": {
        "id": "jEXUV8OT3NnT"
      },
      "execution_count": null,
      "outputs": []
    },
    {
      "cell_type": "code",
      "source": [
        "print(True)\n",
        "print(False)"
      ],
      "metadata": {
        "id": "uo0_6alz3gVa"
      },
      "execution_count": null,
      "outputs": []
    },
    {
      "cell_type": "code",
      "source": [
        "bool_1 = True\n",
        "bool_2 = False\n",
        "print(bool_1)\n",
        "print(bool_2)"
      ],
      "metadata": {
        "id": "IR7Zo7kg3oDB"
      },
      "execution_count": null,
      "outputs": []
    },
    {
      "cell_type": "code",
      "source": [
        "print(12.3)\n",
        "print(0.1)"
      ],
      "metadata": {
        "id": "QP7NP7yI2q8x"
      },
      "execution_count": null,
      "outputs": []
    },
    {
      "cell_type": "code",
      "source": [
        "print (\"My name is Sherry\")\n",
        "print ('I study computer programming')"
      ],
      "metadata": {
        "id": "b7iLcdCd0vro"
      },
      "execution_count": null,
      "outputs": []
    },
    {
      "cell_type": "code",
      "source": [
        "str1 = \"c412\"\n",
        "str2 = \"Python\"\n",
        "print (str1)\n",
        "print (str2)"
      ],
      "metadata": {
        "id": "B1cGq6tq2A9W"
      },
      "execution_count": null,
      "outputs": []
    },
    {
      "cell_type": "code",
      "execution_count": null,
      "metadata": {
        "id": "e5it8IlVz9L2"
      },
      "outputs": [],
      "source": [
        "name = \"Sherry\"\n",
        "number = 888\n",
        "isStudent = True"
      ]
    },
    {
      "cell_type": "markdown",
      "source": [
        "**Arithmetic Operators**"
      ],
      "metadata": {
        "id": "HMDpa2lU39iw"
      }
    },
    {
      "cell_type": "code",
      "source": [
        "print(1+2)\n",
        "print(9-2)\n",
        "print(3*3)\n",
        "print(2*3)\n",
        "print(12/3)\n",
        "print(12//3)\n",
        "print(20%3)\n",
        "print(2**4)"
      ],
      "metadata": {
        "id": "xEIK3UQA4aYF"
      },
      "execution_count": null,
      "outputs": []
    },
    {
      "cell_type": "code",
      "source": [
        "num1 = 8\n",
        "num2 = 2\n",
        "print(num1 + num2)\n",
        "print(num1 - num2)\n",
        "print(num1 / num2)\n",
        "print(num1 // num2)\n",
        "print(num1 % num2)\n",
        "print(num1 ** num2)"
      ],
      "metadata": {
        "id": "q7LZAcD15f3U"
      },
      "execution_count": null,
      "outputs": []
    },
    {
      "cell_type": "markdown",
      "source": [
        "**Compound Assignment Operators**"
      ],
      "metadata": {
        "id": "VYXk8fJO6a73"
      }
    },
    {
      "cell_type": "code",
      "source": [
        "num1 = 12\n",
        "num2 = 4\n",
        "num1+=7\n",
        "print(num1)\n",
        "num1-=num2\n",
        "print(num1)\n",
        "num2*=2\n",
        "print(num2)\n",
        "num2*=num1\n",
        "print(num2)"
      ],
      "metadata": {
        "id": "1H1Hjycf6g6e"
      },
      "execution_count": null,
      "outputs": []
    },
    {
      "cell_type": "markdown",
      "source": [
        "**Order of Precedence**"
      ],
      "metadata": {
        "id": "2-Uq4VZc7xd6"
      }
    },
    {
      "cell_type": "code",
      "source": [
        "a = -2\n",
        "b = 10\n",
        "c = 30\n",
        "d = 20\n",
        "e = (a + b) * c / d\n",
        "print(e)\n",
        "e+= ((a + b) * c) / d\n",
        "print(e)"
      ],
      "metadata": {
        "id": "2iTVXbZg707D"
      },
      "execution_count": null,
      "outputs": []
    },
    {
      "cell_type": "markdown",
      "source": [
        "**CONCATENATION & SPLITTING STATEMENTS**"
      ],
      "metadata": {
        "id": "dpPJEZFu8y21"
      }
    },
    {
      "cell_type": "code",
      "source": [
        "print(\"Hello\" + \" \" + \"World\")"
      ],
      "metadata": {
        "id": "QcfN5m-P83NB"
      },
      "execution_count": null,
      "outputs": []
    },
    {
      "cell_type": "code",
      "source": [
        "str1 = \"Hello\"\n",
        "str2 = \"World\"\n",
        "num1 = 5\n",
        "print(str1 + \" \" + str2)\n",
        "#print(\"Hello\" + 1)\n",
        "#print(str1 + num1)"
      ],
      "metadata": {
        "id": "QT5SS1mg9HR0"
      },
      "execution_count": null,
      "outputs": []
    },
    {
      "cell_type": "markdown",
      "source": [
        "**Splitting Statements**"
      ],
      "metadata": {
        "id": "cW6OPHz49tBB"
      }
    },
    {
      "cell_type": "code",
      "source": [
        "print(\"Hello \"\\\n",
        "      \"There \"\\\n",
        "      \"From \"\\\n",
        "      \"Multiple \"\\\n",
        "      \"Lines\")"
      ],
      "metadata": {
        "id": "JdUtnPk_9zcc",
        "colab": {
          "base_uri": "https://localhost:8080/"
        },
        "outputId": "0a86fad2-d38f-42c1-a2b7-f46bd9e610fd"
      },
      "execution_count": null,
      "outputs": [
        {
          "output_type": "stream",
          "name": "stdout",
          "text": [
            "Hello There From Multiple Lines\n"
          ]
        }
      ]
    },
    {
      "cell_type": "code",
      "source": [
        "print(\"Hello \"+\n",
        "      \"There \"+\n",
        "      \"From \"+\n",
        "      \"Multiple \\r\"+\n",
        "      \"Lines\")"
      ],
      "metadata": {
        "id": "QDIdfyAQ-HF_",
        "colab": {
          "base_uri": "https://localhost:8080/"
        },
        "outputId": "3f0747e9-829a-434b-abbc-8217cca37fa0"
      },
      "execution_count": null,
      "outputs": [
        {
          "output_type": "stream",
          "name": "stdout",
          "text": [
            "Hello There From Multiple \rLines\n"
          ]
        }
      ]
    },
    {
      "cell_type": "markdown",
      "source": [
        "ESCAPE CHARACTERS & COMMENTS"
      ],
      "metadata": {
        "id": "zSxHxMTH-Q9I"
      }
    },
    {
      "cell_type": "code",
      "source": [
        "print(\"\\n\")\n",
        "print(\"\\r\")\n",
        "print(\"\\'\")\n",
        "print(\"\\\"\")\n",
        "print(\"\\\\\")\n",
        "\n",
        "#This is a comment"
      ],
      "metadata": {
        "id": "V58nrweF-Tcf",
        "colab": {
          "base_uri": "https://localhost:8080/"
        },
        "outputId": "4d2ea8d0-c564-46c8-a374-3df5cacfd3a9"
      },
      "execution_count": null,
      "outputs": [
        {
          "output_type": "stream",
          "name": "stdout",
          "text": [
            "\n",
            "\n",
            "hi\rthere\n",
            "'\n",
            "\"\n",
            "\\\n"
          ]
        }
      ]
    },
    {
      "cell_type": "markdown",
      "source": [
        "**COMMON PYTHON FUNCTIONS**"
      ],
      "metadata": {
        "id": "q6I6Dlw7-wOi"
      }
    },
    {
      "cell_type": "code",
      "source": [
        "print(\"Hello\", \"World\", \"From\", \"Python\")"
      ],
      "metadata": {
        "id": "vap6lVL_-2BC"
      },
      "execution_count": null,
      "outputs": []
    },
    {
      "cell_type": "code",
      "source": [
        "print(\"Hello\", True, 3232, 923,3)"
      ],
      "metadata": {
        "id": "PJ-RsGxO_EHf"
      },
      "execution_count": null,
      "outputs": []
    },
    {
      "cell_type": "code",
      "source": [
        "print(\"Hello\", \"World\", \"From\", \"Python\", sep='\\t')"
      ],
      "metadata": {
        "id": "6UlhYbWF_LXp"
      },
      "execution_count": null,
      "outputs": []
    },
    {
      "cell_type": "code",
      "source": [
        "print(\"Hello\", True, 324, 23.32, sep='\\t', end='\\t---End---')"
      ],
      "metadata": {
        "id": "VHgLV_a9_LeE"
      },
      "execution_count": null,
      "outputs": []
    },
    {
      "cell_type": "code",
      "source": [
        "input()\n",
        "input(\"Enter your name\")\n",
        "input(\"enter number\")"
      ],
      "metadata": {
        "id": "Vo_bn9GL_5Lc"
      },
      "execution_count": null,
      "outputs": []
    },
    {
      "cell_type": "code",
      "source": [
        "user_input = input()\n",
        "name = input(\"Enter your name\")\n",
        "number = input(\"enter number\")"
      ],
      "metadata": {
        "id": "v2SnKqXVAHBE"
      },
      "execution_count": null,
      "outputs": []
    },
    {
      "cell_type": "code",
      "source": [
        "str_from_number = str(1)\n",
        "print(str_from_number)\n",
        "str_from_boolean = str(True)\n",
        "str_from_float = str(212.32)\n",
        "float_from_int = float(2)\n",
        "print(float_from_int)\n",
        "float_from_str = float(\"32.32\")\n",
        "print(float_from_str)\n",
        "float_from_boolean = int(True)\n",
        "print(float_from_boolean)\n",
        "int_from_boolean = int(False)\n",
        "print(int_from_boolean)\n",
        "int_from_str_1 = int(\"1232\")\n",
        "#int_from_str_2 = int(\"122.2\")"
      ],
      "metadata": {
        "id": "Ejkj_UfQA3Ej"
      },
      "execution_count": null,
      "outputs": []
    },
    {
      "cell_type": "code",
      "source": [
        "print(round(123.34))\n",
        "print(round(12.23, 1))"
      ],
      "metadata": {
        "id": "NlNnZQd4B8mi"
      },
      "execution_count": null,
      "outputs": []
    },
    {
      "cell_type": "code",
      "source": [
        "a = \"Hello World\"\n",
        "print(len(a))"
      ],
      "metadata": {
        "id": "iDfoPNmKCHBA"
      },
      "execution_count": null,
      "outputs": []
    },
    {
      "cell_type": "markdown",
      "source": [
        "**FORMAT OUTPUT**"
      ],
      "metadata": {
        "id": "uB5MoPKvCPpg"
      }
    },
    {
      "cell_type": "code",
      "source": [
        "print(\"The price is ${:0.2f}.\".format(19.9))"
      ],
      "metadata": {
        "id": "bL_4ic3UCWkc"
      },
      "execution_count": null,
      "outputs": []
    },
    {
      "cell_type": "code",
      "source": [
        "print(\"The price is ${val:0.2f}.\".format(val=19.9))"
      ],
      "metadata": {
        "id": "utGxQmHxDG5F"
      },
      "execution_count": null,
      "outputs": []
    },
    {
      "cell_type": "code",
      "source": [
        "shoes = 2\n",
        "socks = 1.5\n",
        "str1 = \"I have {0:d} pairs of shoes and \" \\\n",
        "       \"{1:9.1f} pairs of socks\".format(shoes, socks)\n",
        "\n",
        "str2 = \"I have {0:d} pairs of shoes and \" \\\n",
        "       \"{1:f} pairs of socks\".format(shoes, socks)\n",
        "\n",
        "str3 = \"I have {numShoes:d} pairs of shoes and \" \\\n",
        "       \"{numSocks:8.2f} pairs of socks\" \\\n",
        "       .format(numShoes=shoes, numSocks=socks)\n",
        "\n",
        "str4 = \"I have {0:d} pairs of shoes and \" \\\n",
        "       \"{1:.1f} pairs of socks\".format(shoes, socks)\n",
        "\n",
        "str5 = \"I have {numShoes:d} pairs of shoes and \" \\\n",
        "       \"{numSocks:19.1f} pairs of socks\" \\\n",
        "       .format(numShoes=shoes, numSocks=socks)\n",
        "\n",
        "str6 = \"I have {:1d} pairs of shoes and \" \\\n",
        "       \"{:.2f} pairs of socks\".format(shoes, socks)\n",
        "\n",
        "str7 = \"I have {0:1d} pairs of shoes and \" \\\n",
        "       \"{1:.3f} pairs of socks\".format(shoes, socks)\n",
        "\n",
        "str8 = \"I have {numShoes:3d} pairs of shoes and \" \\\n",
        "       \"{numSocks:.4f} pairs of socks\" \\\n",
        "       .format(numShoes=shoes, numSocks=socks)\n",
        "\n",
        "str9 = \"I have {:1d} pairs of shoes and \" \\\n",
        "       \"{:8.1f} pairs of socks\".format(shoes, socks)\n",
        "\n",
        "\n",
        "str10 = \"I have {numShoes:1d} pairs of shoes and\" \\\n",
        "        \"{numSocks:8.1f} pairs of socks\".format(numShoes=shoes, numSocks=socks)\n",
        "\n",
        "\n",
        "print(str1)\n",
        "print(str2)\n",
        "print(str3)\n",
        "print(str4)\n",
        "print(str5)\n",
        "print()\n",
        "print(str6)\n",
        "print(str7)\n",
        "print(str8)\n",
        "print(str9)\n",
        "print(str10)"
      ],
      "metadata": {
        "id": "RD2Rt0rFDcdG"
      },
      "execution_count": null,
      "outputs": []
    },
    {
      "cell_type": "markdown",
      "source": [
        "**WIDTH SPECIFIER**"
      ],
      "metadata": {
        "id": "egZgp1L7IHFA"
      }
    },
    {
      "cell_type": "code",
      "source": [
        "print(\"Left Spacing\".ljust(50))"
      ],
      "metadata": {
        "id": "VKg57gdAIJt9"
      },
      "execution_count": null,
      "outputs": []
    },
    {
      "cell_type": "code",
      "source": [
        "print(\"Left Spacing\".center(65,'*'))"
      ],
      "metadata": {
        "id": "YDLSkxuMIT1W"
      },
      "execution_count": null,
      "outputs": []
    },
    {
      "cell_type": "code",
      "source": [
        "print( \"True\".rjust(45), \"Middle\".ljust(20,\"'\"), \"Right Spacing\".center(50,\"-\") )\n",
        "\n",
        "print( \"Left Spacing\".center(15,'#'), \"Middle\".ljust(10,'|'), \"Right Spacing\".center(17,'*') )"
      ],
      "metadata": {
        "id": "ROURgHXsIaYm"
      },
      "execution_count": null,
      "outputs": []
    },
    {
      "cell_type": "markdown",
      "source": [
        "Type Error==> will have an error"
      ],
      "metadata": {
        "id": "FKdsKxjGIh84"
      }
    },
    {
      "cell_type": "code",
      "source": [
        "print(\"1\" - 1)\n",
        "a = 12 / \"3\""
      ],
      "metadata": {
        "id": "AkxOIQQ4ImK4",
        "colab": {
          "base_uri": "https://localhost:8080/",
          "height": 194
        },
        "outputId": "2d168666-9765-49d6-80e6-416631ace15a"
      },
      "execution_count": null,
      "outputs": [
        {
          "output_type": "error",
          "ename": "TypeError",
          "evalue": "unsupported operand type(s) for -: 'str' and 'int'",
          "traceback": [
            "\u001b[0;31m---------------------------------------------------------------------------\u001b[0m",
            "\u001b[0;31mTypeError\u001b[0m                                 Traceback (most recent call last)",
            "\u001b[0;32m<ipython-input-167-67240b96d9dc>\u001b[0m in \u001b[0;36m<cell line: 1>\u001b[0;34m()\u001b[0m\n\u001b[0;32m----> 1\u001b[0;31m \u001b[0mprint\u001b[0m\u001b[0;34m(\u001b[0m\u001b[0;34m\"1\"\u001b[0m \u001b[0;34m-\u001b[0m \u001b[0;36m1\u001b[0m\u001b[0;34m)\u001b[0m\u001b[0;34m\u001b[0m\u001b[0;34m\u001b[0m\u001b[0m\n\u001b[0m\u001b[1;32m      2\u001b[0m \u001b[0ma\u001b[0m \u001b[0;34m=\u001b[0m \u001b[0;36m12\u001b[0m \u001b[0;34m/\u001b[0m \u001b[0;34m\"3\"\u001b[0m\u001b[0;34m\u001b[0m\u001b[0;34m\u001b[0m\u001b[0m\n",
            "\u001b[0;31mTypeError\u001b[0m: unsupported operand type(s) for -: 'str' and 'int'"
          ]
        }
      ]
    }
  ]
}